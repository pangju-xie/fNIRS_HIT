{
 "cells": [
  {
   "cell_type": "code",
   "execution_count": 2,
   "id": "b241f636",
   "metadata": {},
   "outputs": [
    {
     "name": "stdout",
     "output_type": "stream",
     "text": [
      "['FP1', 'FPz', 'FP2']\n"
     ]
    }
   ],
   "source": [
    "import numpy as np\n",
    "\n",
    "former = [\"FP\", \"AF\", \"F\", \"FC\", \"C\", \"CP\", \"P\", \"FO\", \"O\"]\n",
    "latter = [\"7\", \"5\", \"3\", \"1\", \"z\", \"2\", \"4\", \"6\", \"8\"]\n",
    "node_names = [\"FP1\", \"FPz\", \"FP2\"]\n",
    "\n",
    "\n",
    "valid_node_name = [\"FP\"+b1 for b1 in latter if \"FP\"+b1 in node_names]\n",
    "print(valid_node_name)"
   ]
  },
  {
   "cell_type": "code",
   "execution_count": null,
   "id": "e407b87a",
   "metadata": {},
   "outputs": [],
   "source": []
  }
 ],
 "metadata": {
  "kernelspec": {
   "display_name": "Python 3",
   "language": "python",
   "name": "python3"
  },
  "language_info": {
   "codemirror_mode": {
    "name": "ipython",
    "version": 3
   },
   "file_extension": ".py",
   "mimetype": "text/x-python",
   "name": "python",
   "nbconvert_exporter": "python",
   "pygments_lexer": "ipython3",
   "version": "3.8.5"
  }
 },
 "nbformat": 4,
 "nbformat_minor": 5
}
